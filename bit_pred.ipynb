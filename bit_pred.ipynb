{
  "cells": [
    {
      "cell_type": "markdown",
      "metadata": {
        "id": "view-in-github",
        "colab_type": "text"
      },
      "source": [
        "<a href=\"https://colab.research.google.com/github/SayedEqbalSrosh/Algoriths-And-Data-Structures/blob/main/bit_pred.ipynb\" target=\"_parent\"><img src=\"https://colab.research.google.com/assets/colab-badge.svg\" alt=\"Open In Colab\"/></a>"
      ]
    },
    {
      "cell_type": "markdown",
      "metadata": {
        "id": "mpjgM_rs-xfV"
      },
      "source": [
        "### Project Description\n",
        "\n",
        "This section provides an overview of the project, including its goals, scope, and context.\n",
        "\n",
        "Write a brief description of your project, including what problem it aims to solve or what question it seeks to answer. You can include information about the domain of the project and its relevance.\n",
        "\n",
        "\n",
        "<iframe srcdoc=\"<textarea style='width: 100%; height: 70px; overflow: hidden;'></textarea>\" style=\"width:100%; height:100px; border:none;\"></iframe>"
      ]
    },
    {
      "cell_type": "markdown",
      "source": [
        "*The goal of this research is to employ machine learning models to forecast percentage changes in Bitcoin values. The objective is to create a trustworthy prediction model that can anticipate future changes by analyzing past Bitcoin market data, including price, trading volume, and daily volatility. This project is to assist traders, investors, and financial analysts in minimizing risks and improving returns in the unpredictable cryptocurrency market by utilizing data-driven insights to help them make more informed decisions.*"
      ],
      "metadata": {
        "id": "9Km3-GrBkj-Y"
      }
    },
    {
      "cell_type": "code",
      "source": [
        "from google.colab import drive\n",
        "drive.mount('/content/drive')"
      ],
      "metadata": {
        "colab": {
          "base_uri": "https://localhost:8080/"
        },
        "id": "Av3SsNw8-3ZN",
        "outputId": "181512c7-70ac-422f-a111-2a60ed2fdbfe"
      },
      "execution_count": null,
      "outputs": [
        {
          "output_type": "stream",
          "name": "stdout",
          "text": [
            "Mounted at /content/drive\n"
          ]
        }
      ]
    },
    {
      "cell_type": "markdown",
      "metadata": {
        "id": "7gCV4dl7-xfa"
      },
      "source": [
        "#### Objective\n",
        "\n",
        "Describe the overarching business goals or objectives that this project aims to address. For example, if the project is in the healthcare domain, the business objective might be to improve patient outcomes or reduce costs.\n",
        "<iframe srcdoc=\"<textarea style='width: 100%; height: 50px; overflow: hidden;'></textarea>\" style=\"width:100%; height:100px; border:none;\"></iframe>"
      ]
    },
    {
      "cell_type": "markdown",
      "source": [
        "The primary aim of this project is to construct a machine learning model that can reliably forecast changes in the price of Bitcoin, with the goal of improving financial decision-making in the cryptocurrency space. By offering trustworthy price movement projections, the company hopes to enhance investing strategies and risk management by helping investors spot profitable chances or steer clear of possible losses.\n",
        "*italicized text*"
      ],
      "metadata": {
        "id": "F3hPQuHDkq2S"
      }
    },
    {
      "cell_type": "markdown",
      "metadata": {
        "id": "jgBP6AjW-xfb"
      },
      "source": [
        "#### Dataset (Source of data)\n",
        "\n",
        "Provide details about the dataset used in the project. Include information such as where the data comes from, its format (e.g., CSV, Excel), size, and any preprocessing steps performed on it. If applicable, mention any data collection methods or sources.\n",
        "<iframe srcdoc=\"<textarea style='width: 100%; height: 50px; overflow: hidden;'></textarea>\" style=\"width:100%; height:100px; border:none;\"></iframe>"
      ]
    },
    {
      "cell_type": "markdown",
      "source": [
        "Historical Bitcoin data, including details like the date, opening and closing prices, daily highs and lows, trading volume, and % change in price, is included in the dataset utilized for this project. Preprocessing processes for the CSV formatted data include cleaning, addressing missing values, and numeric value conversion for strings including units such as 'K' (thousands), 'M' (millions), 'B' (billions), and 'T' (trillions). This dataset offers a thorough analysis of the market activities for Bitcoin over a certain period of time.\n",
        "The Data for this project was taken from open sources from internet on 09/21/2024 from Investing.com (https://www.investing.com/crypto/bitcoin/historical-data). The data contains four year bitcoin historical data from 01/01/2020-08/21/2024. *italicized text*\n"
      ],
      "metadata": {
        "id": "FZbwZGCd_B3J"
      }
    },
    {
      "cell_type": "markdown",
      "metadata": {
        "id": "-8l2S8OG-xfb"
      },
      "source": [
        "#### Target\n",
        "\n",
        "Define the target variable or outcome of interest in the dataset. Explain what you are trying to predict or classify. For example, if the dataset contains information about the credit transactions, the target variable might be whether a transaction is fraud or not.\n",
        "<iframe srcdoc=\"<textarea style='width: 100%; height: 50px; overflow: hidden;'></textarea>\" style=\"width:100%; height:100px; border:none;\"></iframe>"
      ]
    },
    {
      "cell_type": "markdown",
      "source": [
        "The \"Change %\" column, which shows the percentage change in Bitcoin prices from day to day, is the project's goal variable. In order to provide insights into upcoming price variations in the market, the model attempts to anticipate this percentage change based on factors such the starting price, closing price, high, low, and trading volume.\n"
      ],
      "metadata": {
        "id": "ytZlZoOtl2sS"
      }
    },
    {
      "cell_type": "markdown",
      "metadata": {
        "id": "PcDzZOBH-xfc"
      },
      "source": [
        "#### Expected Outcomes\n",
        "\n",
        "Provide the expected precision and recall for each class. For example:\n",
        "\n",
        "Main Class (e.g., Fraud Cases):\n",
        "- Expected Precision: 90%\n",
        "- Expected Recall: 90%\n",
        "\n",
        "Minor Class (e.g., Non-Fraud Cases):\n",
        "- Expected Precision: 89%\n",
        "- Expected Recall: 91%\n",
        "\n",
        "<iframe srcdoc=\"<textarea style='width: 100%; height: 50px; overflow: hidden;'></textarea>\" style=\"width:100%; height:100px; border:none;\"></iframe>"
      ]
    },
    {
      "cell_type": "markdown",
      "source": [
        "For this model, the expected precision and recall are set to balance predictive accuracy for both increasing and decreasing price movements. For predicting price increases (positive changes), the expected precision is around 90%, with a recall of 88%. For predicting price decreases (negative changes), the precision is expected to be 89%, with a recall of 91%. This ensures the model is optimized for both predicting positive and negative changes effectively."
      ],
      "metadata": {
        "id": "TiQJzkTgmG1Y"
      }
    },
    {
      "cell_type": "markdown",
      "metadata": {
        "id": "Flg5Wqqp-xfc"
      },
      "source": [
        "### Step 1: Import all the required libaries here."
      ]
    },
    {
      "cell_type": "code",
      "execution_count": null,
      "metadata": {
        "id": "ZWrZ7-vh-xfd"
      },
      "outputs": [],
      "source": [
        "# Step 1: Import all the required libraries\n",
        "import pandas as pd\n",
        "import numpy as np\n",
        "from sklearn.model_selection import train_test_split, cross_val_score\n",
        "from sklearn.preprocessing import StandardScaler\n",
        "from sklearn.linear_model import LinearRegression\n",
        "from sklearn.metrics import mean_absolute_error, mean_squared_error, r2_score\n",
        "from sklearn.impute import SimpleImputer\n",
        "import matplotlib.pyplot as plt"
      ]
    },
    {
      "cell_type": "markdown",
      "metadata": {
        "id": "kQDN_uus-xfe"
      },
      "source": [
        "### Step 2: Understand the data.\n",
        "Read the data and print out the size of the dataset. Ensure the data path follows the file architecture outlined in the instructions and README."
      ]
    },
    {
      "cell_type": "code",
      "execution_count": null,
      "metadata": {
        "colab": {
          "base_uri": "https://localhost:8080/"
        },
        "id": "V3RAy2O1-xfe",
        "outputId": "fc81650f-69fc-481b-e795-3b60956f606c"
      },
      "outputs": [
        {
          "output_type": "stream",
          "name": "stdout",
          "text": [
            "         Date     Price      Open      High       Low     Vol. Change %\n",
            "0  09/21/2024  63,106.4  63,201.2  63,396.9  62,778.6   32.52K   -0.15%\n",
            "1  09/20/2024  63,201.2  62,942.4  64,085.1  62,367.1   90.65K    0.42%\n",
            "2  09/19/2024  62,938.6  61,754.8  63,849.6  61,596.5  120.17K    1.91%\n",
            "3  09/18/2024  61,757.6  60,308.5  61,757.6  59,210.7  105.57K    2.40%\n",
            "4  09/17/2024  60,309.1  58,213.1  61,309.0  57,630.2  106.30K    3.60%\n",
            "Missing Values:\n",
            " Date        0\n",
            "Price       0\n",
            "Open        0\n",
            "High        0\n",
            "Low         0\n",
            "Vol.        0\n",
            "Change %    0\n",
            "dtype: int64\n",
            "              Date     Price     Open     High       Low   Vol. Change %\n",
            "count         1726      1726     1726     1726      1726   1726     1726\n",
            "unique        1726      1722     1720     1720      1725   1663      880\n",
            "top     09/21/2024  21,365.2  9,296.5  8,898.7  34,357.4  1.05M    1.42%\n",
            "freq             1         2        2        2         2      4        7\n"
          ]
        }
      ],
      "source": [
        "# Load the dataset\n",
        "df = pd.read_csv('/content/drive/MyDrive/sml-mid-term-assignemnts-SayedEqbalSrosh/data/Bitcoin Historical Data.csv')\n",
        "\n",
        "# Display the first few rows of the dataset\n",
        "print(df.head())\n",
        "\n",
        "# Check for missing values in the dataset\n",
        "print(\"Missing Values:\\n\",df.isnull().sum())\n",
        "\n",
        "# Get summary statistics of the dataset to understand its structure\n",
        "print(df.describe())"
      ]
    },
    {
      "cell_type": "markdown",
      "metadata": {
        "id": "99D_wVkb-xff"
      },
      "source": [
        "### Step 3: Data-cleaning and preprocessing.\n",
        "In this section, include the code necessary for data cleaning and preprocessing tasks."
      ]
    },
    {
      "cell_type": "code",
      "execution_count": null,
      "metadata": {
        "colab": {
          "base_uri": "https://localhost:8080/"
        },
        "id": "eim58FHD-xff",
        "outputId": "de592762-09f7-408c-b81a-18789f981021"
      },
      "outputs": [
        {
          "output_type": "stream",
          "name": "stdout",
          "text": [
            "Date        0\n",
            "Price       0\n",
            "Open        0\n",
            "High        0\n",
            "Low         0\n",
            "Vol.        0\n",
            "Change %    0\n",
            "dtype: int64\n"
          ]
        }
      ],
      "source": [
        "# Step 3: Data-cleaning and preprocessing\n",
        "\n",
        "# Function to convert string values (with 'K', 'M', 'B', 'T', commas) to float\n",
        "def convert_to_float(value):\n",
        "    try:\n",
        "        if 'T' in value:  # Handle trillions (T)\n",
        "            return float(value.replace('T', '').replace(',', '').strip()) * 1_000_000_000_000\n",
        "        elif 'B' in value:  # Handle billions (B)\n",
        "            return float(value.replace('B', '').replace(',', '').strip()) * 1_000_000_000\n",
        "        elif 'K' in value:  # Handle thousands (K)\n",
        "            return float(value.replace('K', '').replace(',', '').strip()) * 1_000\n",
        "        elif 'M' in value:  # Handle millions (M)\n",
        "            return float(value.replace('M', '').replace(',', '').strip()) * 1_000_000\n",
        "        else:  # Handle normal numeric values\n",
        "            return float(value.replace(',', '').strip())\n",
        "    except ValueError as e:\n",
        "        print(f\"Error converting value: {value} - {e}\")\n",
        "        return np.nan  # Return NaN for problematic values\n",
        "\n",
        "# Convert relevant columns to numeric\n",
        "cols_to_convert = ['Price', 'Open', 'High', 'Low', 'Vol.']\n",
        "for col in cols_to_convert:\n",
        "    df[col] = df[col].apply(convert_to_float)\n",
        "\n",
        "# Convert \"Change %\" column to numeric (remove '%' sign and scale to decimal)\n",
        "df['Change %'] = df['Change %'].str.rstrip('%').astype(float) / 100.0\n",
        "\n",
        "# Check if there are any missing values after conversion and handle them\n",
        "print(df.isnull().sum())\n",
        "\n",
        "# Impute missing values (if any) by filling with the column mean\n",
        "imputer = SimpleImputer(strategy='mean')\n",
        "X = df[['Price', 'Open', 'High', 'Low', 'Vol.']]\n",
        "X = imputer.fit_transform(X)\n",
        "\n",
        "# Select target variable\n",
        "y = df['Change %']\n",
        "\n",
        "# Feature scaling for better precision\n",
        "scaler = StandardScaler()\n",
        "X = scaler.fit_transform(X)\n"
      ]
    },
    {
      "cell_type": "markdown",
      "metadata": {
        "id": "CZ3BB0Mb-xfg"
      },
      "source": [
        "### Step 4: Model Development and evaluation.\n",
        "In this section, add the code required to develop the model. This cell should contain all the models you have developed."
      ]
    },
    {
      "cell_type": "code",
      "execution_count": null,
      "metadata": {
        "id": "3kYIblV9-xfg"
      },
      "outputs": [],
      "source": [
        "# Split the data into training and testing sets (80% train, 20% test)\n",
        "X_train, X_test, y_train, y_test = train_test_split(X, y, test_size=0.2, random_state=42)\n",
        "\n",
        "# Initialize the Linear Regression model\n",
        "model = LinearRegression()\n",
        "\n",
        "# Train the model on the training data\n",
        "model.fit(X_train, y_train)\n",
        "\n",
        "# Make predictions on both training and test sets\n",
        "y_train_pred = model.predict(X_train)\n",
        "y_test_pred = model.predict(X_test)\n",
        "\n",
        "# Evaluate the model on training data\n",
        "mae_train = mean_absolute_error(y_train, y_train_pred)\n",
        "mse_train = mean_squared_error(y_train, y_train_pred)\n",
        "r2_train = r2_score(y_train, y_train_pred)\n",
        "\n",
        "# Evaluate the model on test data\n",
        "mae_test = mean_absolute_error(y_test, y_test_pred)\n",
        "mse_test = mean_squared_error(y_test, y_test_pred)\n",
        "r2_test = r2_score(y_test, y_test_pred)"
      ]
    },
    {
      "cell_type": "markdown",
      "metadata": {
        "id": "2tJ48CvK-xfg"
      },
      "source": [
        "### Step 5: Model Fine-Tuning and Optimization\n",
        "\n",
        "Refine and select your best model by fine-tuning hyperparameters and optimizing the performance."
      ]
    },
    {
      "cell_type": "code",
      "execution_count": null,
      "metadata": {
        "colab": {
          "base_uri": "https://localhost:8080/"
        },
        "id": "ekv30iPy-xfg",
        "outputId": "24e1a2e7-ee6b-4fd3-e0a1-87160ced7f34"
      },
      "outputs": [
        {
          "output_type": "stream",
          "name": "stdout",
          "text": [
            "Mean Cross-Validation MSE: 0.0003024668190597394\n",
            "Precision within 10% margin: 13.01%\n"
          ]
        }
      ],
      "source": [
        "# Perform cross-validation on the training data to assess model performance\n",
        "cv_scores = cross_val_score(model, X_train, y_train, cv=5, scoring='neg_mean_squared_error')\n",
        "\n",
        "# Calculate mean cross-validation MSE\n",
        "mean_cv_mse = -np.mean(cv_scores)\n",
        "print(f'Mean Cross-Validation MSE: {mean_cv_mse}')\n",
        "\n",
        "# Calculate the error (difference between actual and predicted values)\n",
        "error = np.abs(y_test - y_test_pred)\n",
        "\n",
        "# Define a threshold (for example, predictions within 10% of the actual value)\n",
        "threshold = 0.10 * np.abs(y_test)  # 10% of actual value\n",
        "\n",
        "# Calculate the percentage of predictions within the threshold\n",
        "precision_within_threshold = np.mean(error <= threshold) * 100\n",
        "print(f'Precision within 10% margin: {precision_within_threshold:.2f}%')\n"
      ]
    },
    {
      "cell_type": "markdown",
      "metadata": {
        "id": "vyV0Qnj6-xfh"
      },
      "source": [
        "### Step 6: Report the results of Final Model.\n",
        "In this step, you'll evaluate your final model using appropriate metrics and Report the final results.\n",
        "\n",
        "\n",
        "\n",
        "\n",
        "\n"
      ]
    },
    {
      "cell_type": "code",
      "execution_count": null,
      "metadata": {
        "colab": {
          "base_uri": "https://localhost:8080/",
          "height": 581
        },
        "id": "7uBmf49l-xfh",
        "outputId": "8c891ccd-7065-4bcc-cf58-f8d315856298"
      },
      "outputs": [
        {
          "output_type": "stream",
          "name": "stdout",
          "text": [
            "\n",
            "Performance Table:\n",
            "                      Metric  Training Data  Test Data\n",
            "0  Mean Absolute Error (MAE)       0.009147   0.009450\n",
            "1   Mean Squared Error (MSE)       0.000298   0.000272\n",
            "2             R-squared (R²)       0.744687   0.782279\n"
          ]
        },
        {
          "output_type": "display_data",
          "data": {
            "text/plain": [
              "<Figure size 640x480 with 1 Axes>"
            ],
            "image/png": "[encoded data removed]"
          },
          "metadata": {}
        }
      ],
      "source": [
        "# Create a performance table to compare training and test results\n",
        "performance_table = pd.DataFrame({\n",
        "    'Metric': ['Mean Absolute Error (MAE)', 'Mean Squared Error (MSE)', 'R-squared (R²)'],\n",
        "    'Training Data': [mae_train, mse_train, r2_train],\n",
        "    'Test Data': [mae_test, mse_test, r2_test]\n",
        "})\n",
        "\n",
        "print(\"\\nPerformance Table:\")\n",
        "print(performance_table)\n",
        "\n",
        "# Plotting actual vs predicted values for the test data\n",
        "plt.scatter(y_test, y_test_pred)\n",
        "plt.plot([y_test.min(), y_test.max()], [y_test.min(), y_test.max()], 'k--', lw=2)\n",
        "plt.xlabel('Actual Change %')\n",
        "plt.ylabel('Predicted Change %')\n",
        "plt.title('Actual vs Predicted Change % (Test Data) - Linear Regression')\n",
        "plt.show()"
      ]
    }
  ],
  "metadata": {
    "kernelspec": {
      "display_name": ".venv",
      "language": "python",
      "name": "python3"
    },
    "language_info": {
      "name": "python",
      "version": "3.12.1"
    },
    "colab": {
      "provenance": [],
      "include_colab_link": true
    }
  },
  "nbformat": 4,
  "nbformat_minor": 0
}